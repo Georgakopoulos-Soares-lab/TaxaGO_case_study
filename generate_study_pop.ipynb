{
 "cells": [
  {
   "cell_type": "code",
   "execution_count": 2,
   "id": "8f3e16b4",
   "metadata": {},
   "outputs": [],
   "source": [
    "import pandas as pd\n",
    "from pathlib import Path"
   ]
  },
  {
   "cell_type": "code",
   "execution_count": 3,
   "id": "e92ccba0",
   "metadata": {},
   "outputs": [],
   "source": [
    "assets_dir = Path.home().joinpath(\".cargo\", \"taxago_assets\")\n",
    "lineage_path = assets_dir.joinpath(\"lineage.txt\")\n",
    "background_path = assets_dir.joinpath(\"background_pop\")"
   ]
  },
  {
   "cell_type": "code",
   "execution_count": 22,
   "id": "167a7146",
   "metadata": {},
   "outputs": [],
   "source": [
    "def load_eukaryotic_lineage_data(\n",
    "    lineage_file_path\n",
    "):\n",
    "    eukaryota_df = pd.read_csv(\n",
    "        lineage_file_path, \n",
    "        sep='\\t'\n",
    "    )\n",
    "    \n",
    "    for col in ['Superkingdom', 'Kingdom', 'Phylum', 'Class', 'Order', 'Family', 'Genus']:\n",
    "        eukaryota_df[col] = eukaryota_df[col].astype(str).str.strip()\n",
    "    \n",
    "    eukaryota = eukaryota_df[eukaryota_df['Superkingdom'].str.lower() == 'eukaryota'].copy()\n",
    "    eukaryota['Tax_ID'] = eukaryota['Tax_ID'].astype(str)\n",
    "\n",
    "    return eukaryota\n",
    "\n",
    "lineage = load_eukaryotic_lineage_data(lineage_path)"
   ]
  },
  {
   "cell_type": "code",
   "execution_count": 35,
   "id": "d46850a8",
   "metadata": {},
   "outputs": [],
   "source": [
    "chordata_qp_data = pd.read_csv(\"original_chordata_qp_data.csv\", low_memory=False)\n",
    "qp_taxon_ids = set(chordata_qp_data.columns.to_list())\n",
    "taxago_taxon_ids = set(lineage['Tax_ID'].to_list())\n",
    "\n",
    "filtered_taxon_ids = taxago_taxon_ids.intersection(qp_taxon_ids)\n",
    "chordata_qp_data = chordata_qp_data[list(filtered_taxon_ids)]\n",
    "chordata_qp_data.to_csv(\"chordata_study_pop.csv\", index=False)"
   ]
  },
  {
   "cell_type": "code",
   "execution_count": 36,
   "id": "7e709661",
   "metadata": {},
   "outputs": [
    {
     "data": {
      "text/plain": [
       "625"
      ]
     },
     "execution_count": 36,
     "metadata": {},
     "output_type": "execute_result"
    }
   ],
   "source": [
    "len(chordata_qp_data.columns)"
   ]
  }
 ],
 "metadata": {
  "kernelspec": {
   "display_name": "lefteris",
   "language": "python",
   "name": "python3"
  },
  "language_info": {
   "codemirror_mode": {
    "name": "ipython",
    "version": 3
   },
   "file_extension": ".py",
   "mimetype": "text/x-python",
   "name": "python",
   "nbconvert_exporter": "python",
   "pygments_lexer": "ipython3",
   "version": "3.13.3"
  }
 },
 "nbformat": 4,
 "nbformat_minor": 5
}
